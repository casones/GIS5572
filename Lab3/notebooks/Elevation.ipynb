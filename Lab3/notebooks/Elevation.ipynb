{
 "cells": [
  {
   "cell_type": "code",
   "execution_count": 1,
   "metadata": {},
   "outputs": [],
   "source": [
    "import sys\n",
    "\n",
    "sys.path.append(r\"C:\\Users\\cason\\Documents\\GIS5572\\Lab3\")\n",
    "from utils.interpolation import Pipeline"
   ]
  },
  {
   "cell_type": "code",
   "execution_count": 2,
   "metadata": {},
   "outputs": [],
   "source": [
    "elevation_points = r\"C:\\Users\\cason\\Documents\\GIS5572\\Lab3\\Lab 3\\Lab 3.gdb\\elevation_3km\"\n",
    "output_gdb = r\"C:\\Users\\cason\\Documents\\GIS5572\\Lab3\\Lab 3\\Lab 3.gdb\"\n",
    "output_directory = r\"C:\\Users\\cason\\Documents\\GIS5572\\Lab3\"\n",
    "sde_connection = r\"C:\\Users\\cason\\Documents\\GIS5572\\Lab3\\Lab 3\\34.135.163.144.sde\""
   ]
  },
  {
   "cell_type": "code",
   "execution_count": 3,
   "metadata": {},
   "outputs": [],
   "source": [
    "elevationPipeline = Pipeline(elevation_points, output_directory, output_gdb, \"grid_code\")"
   ]
  },
  {
   "cell_type": "code",
   "execution_count": 4,
   "metadata": {},
   "outputs": [
    {
     "name": "stdout",
     "output_type": "stream",
     "text": [
      "Start Time: Thursday, April 13, 2023 9:10:11 PM\n",
      "Calculating Ordinary Kriging – Default\n",
      "Calculating Ordinary Kriging – Optimized\n",
      "Calculating Universal Kriging – Default\n",
      "Calculating Universal Kriging – Optimized\n",
      "Calculating Inverse Distance Weighted - Default\n",
      "Calculating Inverse Distance Weighted - Optimized\n",
      " \n",
      "\n",
      "--------------------------------------------\n",
      "RANK | NAME\n",
      "--------------------------------------------\n",
      "\n",
      "\n",
      "1    | Universal Kriging – Optimized\n",
      "\n",
      "\n",
      "2    | Universal Kriging – Default\n",
      "\n",
      "\n",
      "3    | Ordinary Kriging – Optimized\n",
      "\n",
      "\n",
      "4    | Ordinary Kriging – Default\n",
      "\n",
      "\n",
      "5    | Inverse Distance Weighted - Optimized\n",
      "\n",
      "\n",
      "6    | Inverse Distance Weighted - Default\n",
      "--------------------------------------------\n",
      "Succeeded at Thursday, April 13, 2023 9:10:48 PM (Elapsed Time: 37.05 seconds)\n"
     ]
    }
   ],
   "source": [
    "elevationPipeline.run_exploratory_interpolation()"
   ]
  },
  {
   "cell_type": "code",
   "execution_count": 5,
   "metadata": {},
   "outputs": [
    {
     "data": {
      "text/html": [
       "<div>\n",
       "<style scoped>\n",
       "    .dataframe tbody tr th:only-of-type {\n",
       "        vertical-align: middle;\n",
       "    }\n",
       "\n",
       "    .dataframe tbody tr th {\n",
       "        vertical-align: top;\n",
       "    }\n",
       "\n",
       "    .dataframe thead th {\n",
       "        text-align: right;\n",
       "    }\n",
       "</style>\n",
       "<table border=\"1\" class=\"dataframe\">\n",
       "  <thead>\n",
       "    <tr style=\"text-align: right;\">\n",
       "      <th></th>\n",
       "      <th>OID_</th>\n",
       "      <th>DESCR</th>\n",
       "      <th>RANK</th>\n",
       "      <th>INCLUDED</th>\n",
       "      <th>RMSE</th>\n",
       "      <th>ME</th>\n",
       "      <th>ME_STD</th>\n",
       "      <th>RMSE_STD</th>\n",
       "      <th>ASE</th>\n",
       "      <th>MAX_ERROR</th>\n",
       "      <th>PERC_ERROR</th>\n",
       "    </tr>\n",
       "  </thead>\n",
       "  <tbody>\n",
       "    <tr>\n",
       "      <th>0</th>\n",
       "      <td>1</td>\n",
       "      <td>Universal Kriging – Optimized</td>\n",
       "      <td>1</td>\n",
       "      <td>Yes</td>\n",
       "      <td>37.177284</td>\n",
       "      <td>-0.350627</td>\n",
       "      <td>-0.010314</td>\n",
       "      <td>0.999588</td>\n",
       "      <td>36.922203</td>\n",
       "      <td>425.333985</td>\n",
       "      <td>82.837918</td>\n",
       "    </tr>\n",
       "    <tr>\n",
       "      <th>1</th>\n",
       "      <td>2</td>\n",
       "      <td>Universal Kriging – Default</td>\n",
       "      <td>2</td>\n",
       "      <td>Yes</td>\n",
       "      <td>37.222731</td>\n",
       "      <td>-0.151155</td>\n",
       "      <td>-0.005956</td>\n",
       "      <td>1.184218</td>\n",
       "      <td>31.163640</td>\n",
       "      <td>454.410829</td>\n",
       "      <td>82.816938</td>\n",
       "    </tr>\n",
       "    <tr>\n",
       "      <th>2</th>\n",
       "      <td>3</td>\n",
       "      <td>Ordinary Kriging – Optimized</td>\n",
       "      <td>3</td>\n",
       "      <td>Yes</td>\n",
       "      <td>37.845982</td>\n",
       "      <td>-0.083163</td>\n",
       "      <td>-0.003926</td>\n",
       "      <td>1.119559</td>\n",
       "      <td>33.574109</td>\n",
       "      <td>449.171638</td>\n",
       "      <td>82.529228</td>\n",
       "    </tr>\n",
       "    <tr>\n",
       "      <th>3</th>\n",
       "      <td>4</td>\n",
       "      <td>Ordinary Kriging – Default</td>\n",
       "      <td>4</td>\n",
       "      <td>Yes</td>\n",
       "      <td>38.282030</td>\n",
       "      <td>-0.005880</td>\n",
       "      <td>-0.001365</td>\n",
       "      <td>0.866979</td>\n",
       "      <td>43.790844</td>\n",
       "      <td>505.845995</td>\n",
       "      <td>82.327936</td>\n",
       "    </tr>\n",
       "    <tr>\n",
       "      <th>4</th>\n",
       "      <td>5</td>\n",
       "      <td>Inverse Distance Weighted - Optimized</td>\n",
       "      <td>5</td>\n",
       "      <td>Yes</td>\n",
       "      <td>39.781773</td>\n",
       "      <td>0.503155</td>\n",
       "      <td>NaN</td>\n",
       "      <td>NaN</td>\n",
       "      <td>NaN</td>\n",
       "      <td>575.652145</td>\n",
       "      <td>81.635612</td>\n",
       "    </tr>\n",
       "    <tr>\n",
       "      <th>5</th>\n",
       "      <td>6</td>\n",
       "      <td>Inverse Distance Weighted - Default</td>\n",
       "      <td>6</td>\n",
       "      <td>Yes</td>\n",
       "      <td>41.451424</td>\n",
       "      <td>0.740849</td>\n",
       "      <td>NaN</td>\n",
       "      <td>NaN</td>\n",
       "      <td>NaN</td>\n",
       "      <td>652.000570</td>\n",
       "      <td>80.864854</td>\n",
       "    </tr>\n",
       "  </tbody>\n",
       "</table>\n",
       "</div>"
      ],
      "text/plain": [
       "   OID_                                  DESCR  ...   MAX_ERROR PERC_ERROR\n",
       "0     1          Universal Kriging – Optimized  ...  425.333985  82.837918\n",
       "1     2            Universal Kriging – Default  ...  454.410829  82.816938\n",
       "2     3           Ordinary Kriging – Optimized  ...  449.171638  82.529228\n",
       "3     4             Ordinary Kriging – Default  ...  505.845995  82.327936\n",
       "4     5  Inverse Distance Weighted - Optimized  ...  575.652145  81.635612\n",
       "5     6    Inverse Distance Weighted - Default  ...  652.000570  80.864854\n",
       "\n",
       "[6 rows x 11 columns]"
      ]
     },
     "execution_count": 5,
     "metadata": {},
     "output_type": "execute_result"
    }
   ],
   "source": [
    "elevationPipeline.display(\"DATAFRAME\")"
   ]
  },
  {
   "cell_type": "code",
   "execution_count": 6,
   "metadata": {},
   "outputs": [
    {
     "name": "stdout",
     "output_type": "stream",
     "text": [
      "Point accuracy successfully generated at: C:\\Users\\cason\\Documents\\GIS5572\\Lab3\\Lab 3\\Lab 3.gdb\\elevation_3km_point_diff\n"
     ]
    }
   ],
   "source": [
    "elevationPipeline.create_point_accuracy_layer()"
   ]
  },
  {
   "cell_type": "code",
   "execution_count": 7,
   "metadata": {},
   "outputs": [
    {
     "name": "stdout",
     "output_type": "stream",
     "text": [
      "Data successfully aggregated to H3 hexagons at: C:\\Users\\cason\\Documents\\GIS5572\\Lab3\\Lab 3\\Lab 3.gdb\\elevation_3km_h3_6\n"
     ]
    }
   ],
   "source": [
    "elevationPipeline.convert_results_to_hex()"
   ]
  },
  {
   "cell_type": "code",
   "execution_count": null,
   "metadata": {},
   "outputs": [],
   "source": [
    "elevationPipeline.export_to_sde(sde_connection, \"TESSELLATION\")"
   ]
  },
  {
   "cell_type": "code",
   "execution_count": null,
   "metadata": {},
   "outputs": [],
   "source": [
    "elevationPipeline.export_to_sde(sde_connection, \"POINT_ACCURACY\")"
   ]
  }
 ],
 "metadata": {
  "kernelspec": {
   "display_name": "ArcGISPro",
   "language": "Python",
   "name": "python3"
  },
  "language_info": {
   "file_extension": ".py",
   "name": "python",
   "version": "3"
  }
 },
 "nbformat": 4,
 "nbformat_minor": 2
}
