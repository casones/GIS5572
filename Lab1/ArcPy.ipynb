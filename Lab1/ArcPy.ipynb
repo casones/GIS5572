{
 "cells": [
  {
   "cell_type": "markdown",
   "metadata": {},
   "source": [
    "# ArcPy"
   ]
  },
  {
   "cell_type": "markdown",
   "metadata": {},
   "source": [
    "Create a feature class:"
   ]
  },
  {
   "cell_type": "code",
   "execution_count": null,
   "metadata": {},
   "outputs": [],
   "source": [
    "import arcpy\n",
    "\n",
    "# set up workspace and name of new feature class\n",
    "arcpy.env.workspace = \"C:/data\"\n",
    "fc_name = \"my_feature_class.shp\"\n",
    "\n",
    "# create a point feature class\n",
    "arcpy.CreateFeatureclass_management(arcpy.env.workspace, fc_name, \"POINT\")"
   ]
  },
  {
   "cell_type": "markdown",
   "metadata": {},
   "source": [
    "Add points to a feature class:"
   ]
  },
  {
   "cell_type": "code",
   "execution_count": null,
   "metadata": {},
   "outputs": [],
   "source": [
    "# create a list of fields for the points\n",
    "fields = [\"Name\", \"SHAPE@\"]\n",
    "\n",
    "# create an insert cursor for the point feature class\n",
    "cursor = arcpy.da.InsertCursor(fc_name, fields)\n",
    "\n",
    "# add a point with a name and coordinates\n",
    "name = \"Point1\"\n",
    "point = arcpy.Point(-122.15, 37.5)\n",
    "row = (name, point)\n",
    "cursor.insertRow(row)\n",
    "\n",
    "# add another point\n",
    "name = \"Point2\"\n",
    "point = arcpy.Point(-122.1, 37.4)\n",
    "row = (name, point)\n",
    "cursor.insertRow(row)\n",
    "\n",
    "del cursor"
   ]
  },
  {
   "cell_type": "markdown",
   "metadata": {},
   "source": [
    "Add line to a feature class:"
   ]
  },
  {
   "cell_type": "code",
   "execution_count": null,
   "metadata": {},
   "outputs": [],
   "source": [
    "# create a list of fields for the line\n",
    "fields = [\"Name\", \"Length\", \"SHAPE@\"]\n",
    "\n",
    "# create an insert cursor for the line feature class\n",
    "cursor = arcpy.da.InsertCursor(fc_name, fields)\n",
    "\n",
    "# create a line object\n",
    "array = arcpy.Array([arcpy.Point(-122.15, 37.5), arcpy.Point(-122.1, 37.4)])\n",
    "line = arcpy.Polyline(array)\n",
    "\n",
    "# add the line to the feature class\n",
    "name = \"Line\"\n",
    "length = line.length\n",
    "row = (name, length, line)\n",
    "cursor.insertRow(row)\n",
    "\n",
    "del cursor"
   ]
  },
  {
   "cell_type": "markdown",
   "metadata": {},
   "source": [
    "Add polygons to a feature class:"
   ]
  },
  {
   "cell_type": "code",
   "execution_count": null,
   "metadata": {},
   "outputs": [],
   "source": [
    "# create a list of fields for the polygon\n",
    "fields = [\"Name\", \"Area\", \"SHAPE@\"]\n",
    "\n",
    "# create an insert cursor for the feature class\n",
    "cursor = arcpy.da.InsertCursor(fc_name, fields)\n",
    "\n",
    "# create a polygon object\n",
    "array = arcpy.Array([arcpy.Point(-122.15, 37.5), arcpy.Point(-122.1, 37.5),\n",
    "                     arcpy.Point(-122.1, 37.4), arcpy.Point(-122.15, 37.4)])\n",
    "polygon = arcpy.Polygon(array)\n",
    "\n",
    "# add the polygon to the feature class\n",
    "name = \"Polygon\"\n",
    "area = polygon.area\n",
    "row = (name, area, polygon)\n",
    "cursor.insertRow(row)\n",
    "\n",
    "del cursor"
   ]
  },
  {
   "cell_type": "markdown",
   "metadata": {},
   "source": [
    "View each row in an attribute table for a feature class:"
   ]
  },
  {
   "cell_type": "code",
   "execution_count": null,
   "metadata": {},
   "outputs": [],
   "source": [
    "# create a list of fields in feature class\n",
    "fields = [\"Name\", \"Area\"]\n",
    "\n",
    "# create a search cursor for the feature class\n",
    "cursor = arcpy.da.SearchCursor(fc_name, fields)\n",
    "\n",
    "# iterate over each row in the attribute table\n",
    "for row in cursor:\n",
    "    name = row[0]\n",
    "    area = row[1]\n",
    "    print(\"Name: {}, Area: {}\".format(name, area))\n",
    "\n",
    "# delete the cursor to free up resources\n",
    "del cursor"
   ]
  },
  {
   "cell_type": "markdown",
   "metadata": {},
   "source": [
    "View each geometry object in a feature class:"
   ]
  },
  {
   "cell_type": "code",
   "execution_count": null,
   "metadata": {},
   "outputs": [],
   "source": [
    "# create a search cursor to iterate through the features in the feature class\n",
    "with arcpy.da.SearchCursor(fc, [\"SHAPE@\"]) as cursor:\n",
    "    for row in cursor:\n",
    "        \n",
    "        # access the geometry object of the current feature\n",
    "        geometry = row[0]\n",
    "        \n",
    "        # print geometry object's type\n",
    "        print(geometry.type)"
   ]
  },
  {
   "cell_type": "markdown",
   "metadata": {},
   "source": [
    "Summarize the contents of a feature class:"
   ]
  },
  {
   "cell_type": "code",
   "execution_count": null,
   "metadata": {},
   "outputs": [],
   "source": [
    "# use list fields tool in arcpy to list the fields in a feature class\n",
    "arcpy.ListFields(fc)"
   ]
  },
  {
   "cell_type": "markdown",
   "metadata": {},
   "source": [
    "Export to shapefile:"
   ]
  },
  {
   "cell_type": "code",
   "execution_count": null,
   "metadata": {},
   "outputs": [],
   "source": [
    "# set the input feature class and output shapefile paths\n",
    "in_feature_class = \"my_feature_class\"\n",
    "out_shapefile = r\"C:\\output\\my_shapefile.shp\"\n",
    "\n",
    "# use the CopyFeatures function to export the feature class to a shapefile\n",
    "arcpy.management.CopyFeatures(in_feature_class, out_shapefile)"
   ]
  },
  {
   "cell_type": "markdown",
   "metadata": {},
   "source": [
    "Export to geodatabase:"
   ]
  },
  {
   "cell_type": "code",
   "execution_count": null,
   "metadata": {},
   "outputs": [],
   "source": [
    "# set the input feature class and output geodatabase paths\n",
    "in_feature_class = r\"C:\\data.gdb\\my_feature_class\"\n",
    "out_geodatabase = r\"C:\\output\\my_geodatabase.gdb\"\n",
    "\n",
    "# use the CopyFeatures function to export the feature class to the geodatabase\n",
    "arcpy.management.CopyFeatures(in_feature_class, out_geodatabase + \"\\my_feature_class\")"
   ]
  }
 ],
 "metadata": {
  "kernelspec": {
   "display_name": "ArcGISPro",
   "language": "Python",
   "name": "python3"
  },
  "language_info": {
   "file_extension": ".py",
   "name": "python",
   "version": "3"
  },
  "vscode": {
   "interpreter": {
    "hash": "1f79dda2a89bd2da2ca48b67a3b9898e69fac8caa781fb5053747084324b3e17"
   }
  }
 },
 "nbformat": 4,
 "nbformat_minor": 2
}
