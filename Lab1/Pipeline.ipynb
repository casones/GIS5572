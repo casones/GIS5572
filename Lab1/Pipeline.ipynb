{
 "cells": [
  {
   "cell_type": "markdown",
   "metadata": {},
   "source": [
    "# Import modules and set up workspace"
   ]
  },
  {
   "cell_type": "code",
   "execution_count": 8,
   "metadata": {},
   "outputs": [],
   "source": [
    "import arcpy\n",
    "import psycopg2\n",
    "from arcgis.gis import GIS\n",
    "from arcgis.features import FeatureLayerCollection\n",
    "from psycopg2 import sql\n",
    "from psycopg2.extras import RealDictCursor"
   ]
  },
  {
   "cell_type": "code",
   "execution_count": 2,
   "metadata": {},
   "outputs": [],
   "source": [
    "arcpy.env.workspace = r\"C:\\Users\\cason\\Documents\\GIS5572\\Lab1\"\n",
    "workspace = arcpy.env.workspace"
   ]
  },
  {
   "cell_type": "markdown",
   "metadata": {},
   "source": [
    "# Build polygon geometry starting with point coordinates"
   ]
  },
  {
   "cell_type": "code",
   "execution_count": 3,
   "metadata": {},
   "outputs": [],
   "source": [
    "p1 = arcpy.Point(5,2)\n",
    "p2 = arcpy.Point(10,14)\n",
    "p3 = arcpy.Point(15,6)"
   ]
  },
  {
   "cell_type": "code",
   "execution_count": 4,
   "metadata": {},
   "outputs": [
    {
     "data": {
      "text/plain": [
       "[<Point (5.0, 2.0, #, #)>, <Point (10.0, 14.0, #, #)>, <Point (15.0, 6.0, #, #)>]"
      ]
     },
     "execution_count": 4,
     "metadata": {},
     "output_type": "execute_result"
    }
   ],
   "source": [
    "point_list = [p1, p2, p3]\n",
    "point_list"
   ]
  },
  {
   "cell_type": "code",
   "execution_count": 5,
   "metadata": {},
   "outputs": [
    {
     "data": {
      "text/plain": [
       "<Array [<Point (5.0, 2.0, #, #)>, <Point (10.0, 14.0, #, #)>, <Point (15.0, 6.0, #, #)>]>"
      ]
     },
     "execution_count": 5,
     "metadata": {},
     "output_type": "execute_result"
    }
   ],
   "source": [
    "array = arcpy.Array(point_list)\n",
    "array"
   ]
  },
  {
   "cell_type": "code",
   "execution_count": 6,
   "metadata": {},
   "outputs": [
    {
     "data": {
      "image/svg+xml": [
       "<svg xmlns=\"http://www.w3.org/2000/svg\" xmlns:xlink=\"http://www.w3.org/1999/xlink\" width=\"100.0\" height=\"100.0\" viewBox=\"4.5201220703125 1.5201220703125 10.96 12.96\" preserveAspectRatio=\"xMinYMin meet\"><g transform=\"matrix(1,0,0,-1,0,16.000244140625)\"><path fill-rule=\"evenodd\" fill=\"#66cc99\" stroke=\"#555555\" stroke-width=\"0.25920000000000004\" opacity=\"0.6\" d=\" M 5.0001220703125,2.0001220703125 L 10.0001220703125,14.0001220703125 L 15.0001220703125,6.0001220703125 L 5.0001220703125,2.0001220703125 z\" /></g></svg>"
      ],
      "text/plain": [
       "<Polygon object at 0x26c84cf4430[0x26c84cf42a0]>"
      ]
     },
     "execution_count": 6,
     "metadata": {},
     "output_type": "execute_result"
    }
   ],
   "source": [
    "polygon = arcpy.Polygon(array)\n",
    "polygon"
   ]
  },
  {
   "cell_type": "code",
   "execution_count": 7,
   "metadata": {},
   "outputs": [],
   "source": [
    "spatial_reference = arcpy.SpatialReference(4326)"
   ]
  },
  {
   "cell_type": "code",
   "execution_count": 8,
   "metadata": {},
   "outputs": [],
   "source": [
    "polygon.SR = spatial_reference"
   ]
  },
  {
   "cell_type": "code",
   "execution_count": 9,
   "metadata": {},
   "outputs": [
    {
     "data": {
      "text/plain": [
       "'MULTIPOLYGON (((5.0001220703125 2.0001220703125, 15.0001220703125 6.0001220703125, 10.0001220703125 14.0001220703125, 5.0001220703125 2.0001220703125)))'"
      ]
     },
     "execution_count": 9,
     "metadata": {},
     "output_type": "execute_result"
    }
   ],
   "source": [
    "polygon_wkt = polygon.WKT\n",
    "polygon_wkt"
   ]
  },
  {
   "cell_type": "markdown",
   "metadata": {},
   "source": [
    "# Connect to PostgreSQL database and write polygon to table as WKT"
   ]
  },
  {
   "cell_type": "code",
   "execution_count": 10,
   "metadata": {},
   "outputs": [],
   "source": [
    "conn = psycopg2.connect(host = \"34.135.163.144\",\n",
    "                       database = \"lab1\",\n",
    "                       user = \"postgres\",\n",
    "                       password = \"----\",\n",
    "                       port = \"5432\")"
   ]
  },
  {
   "cell_type": "code",
   "execution_count": 11,
   "metadata": {},
   "outputs": [],
   "source": [
    "cursor = conn.cursor()"
   ]
  },
  {
   "cell_type": "code",
   "execution_count": 12,
   "metadata": {},
   "outputs": [],
   "source": [
    "cursor.execute(\"CREATE TABLE IF NOT EXISTS poly (id SERIAL PRIMARY KEY, geom GEOMETRY)\")\n",
    "cursor.execute(\"INSERT INTO poly (geom) VALUES (ST_GeomFromText('{}', 4326))\".format(polygon_wkt))\n",
    "conn.commit()\n",
    "conn.close()"
   ]
  },
  {
   "cell_type": "markdown",
   "metadata": {},
   "source": [
    "# Import polygon from Google Cloud VM and save locally as JSON file"
   ]
  },
  {
   "cell_type": "code",
   "execution_count": 18,
   "metadata": {},
   "outputs": [
    {
     "name": "stdout",
     "output_type": "stream",
     "text": [
      "File saved successfully\n"
     ]
    }
   ],
   "source": [
    "import requests\n",
    "\n",
    "url = \"http://34.125.225.68:5000/get_polygon\"\n",
    "response = requests.get(url)\n",
    "\n",
    "if response.status_code == 200:\n",
    "    geojson = response.json()\n",
    "    with open(\"C:/Users/cason/Desktop/GIS5572/GIS5572/Lab1/my_geojson.geojson\", \"w\") as f:\n",
    "        f.write(str(geojson))\n",
    "        print(\"File saved successfully\")\n",
    "        \n",
    "else:\n",
    "    print(\"Failed to execute\")"
   ]
  },
  {
   "cell_type": "code",
   "execution_count": 5,
   "metadata": {},
   "outputs": [
    {
     "name": "stdout",
     "output_type": "stream",
     "text": [
      "{\"type\": \"FeatureCollection\", \"features\": [{\"type\": \"Feature\", \"geometry\": {\"coordinates\": [[[[5.00012207, 2.00012207], [15.00012207, 6.00012207], [10.00012207, 14.00012207], [5.00012207, 2.00012207]]]], \"type\": \"MultiPolygon\"}, \"properties\": {\"poly\": \"(1,0106000020E61000000100000001030000000100000004000000000000002000144000000000400000400000000010002E40000000002000184000000000100024400000000010002C4000000000200014400000000040000040)\"}}]}\n"
     ]
    }
   ],
   "source": [
    "import json\n",
    "\n",
    "json_string = '{\"geometry\": {\"coordinates\": [[[[5.00012207, 2.00012207], [15.00012207, 6.00012207], [10.00012207, 14.00012207], [5.00012207, 2.00012207]]]], \"type\": \"MultiPolygon\"}, \"poly\": \"(1,0106000020E61000000100000001030000000100000004000000000000002000144000000000400000400000000010002E40000000002000184000000000100024400000000010002C4000000000200014400000000040000040)\"}'\n",
    "\n",
    "json_obj = json.loads(json_string)\n",
    "\n",
    "new_json_obj = {\n",
    "    \"type\": \"FeatureCollection\",\n",
    "    \"features\": [\n",
    "        {\n",
    "            \"type\": \"Feature\",\n",
    "            \"geometry\": json_obj['geometry'],\n",
    "            \"properties\": {\n",
    "                \"poly\": json_obj['poly']\n",
    "            }\n",
    "            \n",
    "        }\n",
    "    ]\n",
    "}\n",
    "\n",
    "new_json_string = json.dumps(new_json_obj)\n",
    "\n",
    "print(new_json_string)"
   ]
  },
  {
   "cell_type": "code",
   "execution_count": 6,
   "metadata": {},
   "outputs": [],
   "source": [
    "with open(\"C:/Users/cason/Desktop/GIS5572/GIS5572/Lab1/json_esri.json\", \"w\") as json_file:\n",
    "    json.dump(new_json_obj, json_file)"
   ]
  },
  {
   "cell_type": "markdown",
   "metadata": {},
   "source": [
    "# Export GeoJSON file to AGOL"
   ]
  },
  {
   "cell_type": "code",
   "execution_count": 33,
   "metadata": {},
   "outputs": [
    {
     "ename": "Exception",
     "evalue": "Item 'json_esri.json' already exists.\n(Error Code: 409)",
     "output_type": "error",
     "traceback": [
      "\u001b[0;31m---------------------------------------------------------------------------\u001b[0m\n\u001b[0;31mException\u001b[0m                                 Traceback (most recent call last)",
      "In  \u001b[0;34m[33]\u001b[0m:\nLine \u001b[0;34m3\u001b[0m:     item = gis.content.add({\u001b[33m'\u001b[39;49;00m\u001b[33mtype\u001b[39;49;00m\u001b[33m'\u001b[39;49;00m: \u001b[33m'\u001b[39;49;00m\u001b[33mGeoJson\u001b[39;49;00m\u001b[33m'\u001b[39;49;00m}, \u001b[33m\"\u001b[39;49;00m\u001b[33mC:/Users/cason/Desktop/GIS5572/GIS5572/Lab1/json_esri.json\u001b[39;49;00m\u001b[33m\"\u001b[39;49;00m)\n",
      "File \u001b[0;34mC:\\Users\\cason\\AppData\\Local\\ESRI\\conda\\envs\\arcgis2\\lib\\site-packages\\arcgis\\gis\\__init__.py\u001b[0m, in \u001b[0;32madd\u001b[0m:\nLine \u001b[0;34m5511\u001b[0m:  itemid = \u001b[36mself\u001b[39;49;00m._portal.add_item(\n",
      "File \u001b[0;34mC:\\Users\\cason\\AppData\\Local\\ESRI\\conda\\envs\\arcgis2\\lib\\site-packages\\arcgis\\gis\\_impl\\_portalpy.py\u001b[0m, in \u001b[0;32madd_item\u001b[0m:\nLine \u001b[0;34m436\u001b[0m:   resp = \u001b[36mself\u001b[39;49;00m.con.post(path, postdata, files)\n",
      "File \u001b[0;34mC:\\Users\\cason\\AppData\\Local\\ESRI\\conda\\envs\\arcgis2\\lib\\site-packages\\arcgis\\gis\\_impl\\_con\\_connection.py\u001b[0m, in \u001b[0;32mpost\u001b[0m:\nLine \u001b[0;34m1407\u001b[0m:  \u001b[34mreturn\u001b[39;49;00m \u001b[36mself\u001b[39;49;00m._handle_response(\n",
      "File \u001b[0;34mC:\\Users\\cason\\AppData\\Local\\ESRI\\conda\\envs\\arcgis2\\lib\\site-packages\\arcgis\\gis\\_impl\\_con\\_connection.py\u001b[0m, in \u001b[0;32m_handle_response\u001b[0m:\nLine \u001b[0;34m900\u001b[0m:   \u001b[36mself\u001b[39;49;00m._handle_json_error(data[\u001b[33m\"\u001b[39;49;00m\u001b[33merror\u001b[39;49;00m\u001b[33m\"\u001b[39;49;00m], errorcode)\n",
      "File \u001b[0;34mC:\\Users\\cason\\AppData\\Local\\ESRI\\conda\\envs\\arcgis2\\lib\\site-packages\\arcgis\\gis\\_impl\\_con\\_connection.py\u001b[0m, in \u001b[0;32m_handle_json_error\u001b[0m:\nLine \u001b[0;34m923\u001b[0m:   \u001b[34mraise\u001b[39;49;00m \u001b[36mException\u001b[39;49;00m(errormessage)\n",
      "\u001b[0;31mException\u001b[0m: Item 'json_esri.json' already exists.\n(Error Code: 409)\n\u001b[0;31m---------------------------------------------------------------------------\u001b[0m"
     ]
    }
   ],
   "source": [
    "gis = GIS(\"https://www.arcgis.com\", \"casones1597\", \"----\")\n",
    "\n",
    "item = gis.content.add({'type': 'GeoJson'}, \"C:/Users/cason/Desktop/GIS5572/GIS5572/Lab1/json_esri.json\")\n",
    "\n",
    "feature_layer = item.publish()\n",
    "\n",
    "feature_layer_url = feature_layer.url\n",
    "print(feature_layer_url)\n"
   ]
  },
  {
   "cell_type": "code",
   "execution_count": null,
   "metadata": {},
   "outputs": [],
   "source": []
  }
 ],
 "metadata": {
  "kernelspec": {
   "display_name": "ArcGISPro",
   "language": "Python",
   "name": "python3"
  },
  "language_info": {
   "file_extension": ".py",
   "name": "python",
   "version": "3"
  }
 },
 "nbformat": 4,
 "nbformat_minor": 2
}
