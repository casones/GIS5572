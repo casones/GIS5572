{
 "cells": [
  {
   "cell_type": "markdown",
   "metadata": {},
   "source": [
    "# PostGIS"
   ]
  },
  {
   "cell_type": "markdown",
   "metadata": {},
   "source": [
    "Create a feature class:"
   ]
  },
  {
   "cell_type": "code",
   "execution_count": null,
   "metadata": {},
   "outputs": [],
   "source": [
    "CREATE TABLE my_points (\n",
    "    id serial PRIMARY KEY,\n",
    "    geom geometry(Point, 4326)\n",
    ");"
   ]
  },
  {
   "cell_type": "markdown",
   "metadata": {},
   "source": [
    "Add points to a feature class:"
   ]
  },
  {
   "cell_type": "code",
   "execution_count": null,
   "metadata": {},
   "outputs": [],
   "source": [
    "INSERT INTO my_points (geom)\n",
    "VALUES (ST_SetSRID(ST_MakePoint(-122.4348, 37.8014), 4326));"
   ]
  },
  {
   "cell_type": "markdown",
   "metadata": {},
   "source": [
    "Add line to a feature class:"
   ]
  },
  {
   "cell_type": "code",
   "execution_count": null,
   "metadata": {},
   "outputs": [],
   "source": [
    "INSERT INTO my_lines (geom)\n",
    "VALUES (ST_SetSRID(ST_MakeLine(\n",
    "    ST_MakePoint(-122.4348, 37.8014),\n",
    "    ST_MakePoint(-122.4113, 37.7892)\n",
    "), 4326));"
   ]
  },
  {
   "cell_type": "markdown",
   "metadata": {},
   "source": [
    "Add polygons to a feature class:"
   ]
  },
  {
   "cell_type": "code",
   "execution_count": null,
   "metadata": {},
   "outputs": [],
   "source": [
    "INSERT INTO my_polygons (geom)\n",
    "VALUES (ST_SetSRID(ST_MakePolygon(ST_MakeLine(ARRAY[\n",
    "    ST_MakePoint(-122.4194, 37.8074),\n",
    "    ST_MakePoint(-122.4145, 37.8060),\n",
    "    ST_MakePoint(-122.4109, 37.8022),\n",
    "    ST_MakePoint(-122.4145, 37.7985),\n",
    "    ST_MakePoint(-122.4194, 37.7970),\n",
    "    ST_MakePoint(-122.4243, 37.7985),\n",
    "    ST_MakePoint(-122.4279, 37.8022),\n",
    "    ST_MakePoint(-122.4243, 37.8060),\n",
    "    ST_MakePoint(-122.4194, 37.8074)\n",
    "])), 4326));"
   ]
  },
  {
   "cell_type": "markdown",
   "metadata": {},
   "source": [
    "View each row in an attribute table for a feature class:"
   ]
  },
  {
   "cell_type": "code",
   "execution_count": null,
   "metadata": {},
   "outputs": [],
   "source": [
    "SELECT * FROM <feature_class_name>;"
   ]
  },
  {
   "cell_type": "markdown",
   "metadata": {},
   "source": [
    "View each geometry object in a feature class:"
   ]
  },
  {
   "cell_type": "code",
   "execution_count": null,
   "metadata": {},
   "outputs": [],
   "source": [
    "SELECT ST_AsText(<geometry_column_name>) FROM <feature_class_name>;"
   ]
  },
  {
   "cell_type": "markdown",
   "metadata": {},
   "source": [
    "Summarize the contents of a feature class:"
   ]
  },
  {
   "cell_type": "code",
   "execution_count": null,
   "metadata": {},
   "outputs": [],
   "source": [
    "SELECT COUNT(*) AS num_features, ST_GeometryType(<geometry_column_name>) AS geom_type FROM <feature_class_name> GROUP BY ST_GeometryType(<geometry_column_name>);"
   ]
  },
  {
   "cell_type": "markdown",
   "metadata": {},
   "source": [
    "Export to shapefile:"
   ]
  },
  {
   "cell_type": "code",
   "execution_count": null,
   "metadata": {},
   "outputs": [],
   "source": [
    "pgsql2shp -f <shapefile_name> -h <database_host> -p <database_port> -u <database_user> -P <database_password> <database_name> <table_name>"
   ]
  },
  {
   "cell_type": "markdown",
   "metadata": {},
   "source": [
    "Export to geodatabase:"
   ]
  },
  {
   "cell_type": "code",
   "execution_count": null,
   "metadata": {},
   "outputs": [],
   "source": [
    "ogr2ogr -f \"FileGDB\" <geodatabase_name>.gdb PG:\"host=<database_host> user=<database_user> password=<database_password> dbname=<database_name>\" <table_name>"
   ]
  }
 ],
 "metadata": {
  "kernelspec": {
   "display_name": "ArcGISPro",
   "language": "Python",
   "name": "python3"
  },
  "language_info": {
   "file_extension": ".py",
   "name": "python",
   "version": "3"
  }
 },
 "nbformat": 4,
 "nbformat_minor": 2
}
