{
 "cells": [
  {
   "cell_type": "markdown",
   "metadata": {},
   "source": [
    "# Fiona/Shapely"
   ]
  },
  {
   "attachments": {},
   "cell_type": "markdown",
   "metadata": {},
   "source": [
    "Create a feature class:"
   ]
  },
  {
   "cell_type": "code",
   "execution_count": null,
   "metadata": {},
   "outputs": [],
   "source": [
    "# define the schema of the feature class\n",
    "schema = {\n",
    "    'geometry': 'Point',\n",
    "    'properties': {\n",
    "        'id': 'int',\n",
    "        'name': 'str'\n",
    "    }\n",
    "}\n",
    "\n",
    "# create the feature class\n",
    "fiona.open('my_feature_class.shp', 'w', crs=from_epsg(4326), driver='ESRI Shapefile', schema=schema)"
   ]
  },
  {
   "cell_type": "markdown",
   "metadata": {},
   "source": [
    "Add points to a feature class:"
   ]
  },
  {
   "cell_type": "code",
   "execution_count": null,
   "metadata": {},
   "outputs": [],
   "source": [
    "# set the input feature class path\n",
    "feature_class_path = 'my_feature_class.shp'\n",
    "\n",
    "# open the feature class in 'a' mode (for append)\n",
    "with fiona.open(feature_class_path, 'a') as layer:\n",
    "    \n",
    "    # add a point feature to the feature class\n",
    "    point = {\n",
    "        'type': 'Feature',\n",
    "        'geometry': {\n",
    "            'type': 'Point',\n",
    "            'coordinates': (1, 2)\n",
    "        },\n",
    "        'properties': {\n",
    "            'id': 1,\n",
    "            'name': 'My point'\n",
    "        }\n",
    "    }\n",
    "    layer.write(point)"
   ]
  },
  {
   "cell_type": "markdown",
   "metadata": {},
   "source": [
    "Add line to a feature class:"
   ]
  },
  {
   "cell_type": "code",
   "execution_count": null,
   "metadata": {},
   "outputs": [],
   "source": [
    "# open the feature class in 'a' mode (for append)\n",
    "with fiona.open(feature_class_path, 'a') as layer:\n",
    "    \n",
    "    # add a line feature to the feature class\n",
    "    line = {\n",
    "        'type': 'Feature',\n",
    "        'geometry': {\n",
    "            'type': 'LineString',\n",
    "            'coordinates': [(1, 2), (3, 4), (5, 6)]\n",
    "        },\n",
    "        'properties': {\n",
    "            'id': 2,\n",
    "            'name': 'My line'\n",
    "        }\n",
    "    }\n",
    "    layer.write(line)"
   ]
  },
  {
   "cell_type": "markdown",
   "metadata": {},
   "source": [
    "Add polygons to a feature class:"
   ]
  },
  {
   "cell_type": "code",
   "execution_count": null,
   "metadata": {},
   "outputs": [],
   "source": [
    "# open the feature class in 'a' mode (for append)\n",
    "with fiona.open(feature_class_path, 'a') as layer:\n",
    "    \n",
    "    # add a polygon feature to the feature class\n",
    "    polygon = {\n",
    "        'type': 'Feature',\n",
    "        'geometry': {\n",
    "            'type': 'Polygon',\n",
    "            'coordinates': [[(1, 2), (3, 4), (5, 6), (7, 8)]]\n",
    "        },\n",
    "        'properties': {\n",
    "            'id': 3,\n",
    "            'name': 'My polygon'\n",
    "        }\n",
    "    }\n",
    "    layer.write(polygon)"
   ]
  },
  {
   "cell_type": "markdown",
   "metadata": {},
   "source": [
    "View each row in an attribute table for a feature class:"
   ]
  },
  {
   "cell_type": "code",
   "execution_count": null,
   "metadata": {},
   "outputs": [],
   "source": [
    "# set the input feature class path\n",
    "feature_class_path = 'my_feature_class.shp'\n",
    "\n",
    "# open the feature class\n",
    "with fiona.open(feature_class_path) as layer:\n",
    "    \n",
    "    # get the fields of the feature class\n",
    "    fields = layer.schema['properties']\n",
    "    \n",
    "    # print the names of the fields\n",
    "    print(fields.keys())"
   ]
  },
  {
   "cell_type": "markdown",
   "metadata": {},
   "source": [
    "View each geometry object in a feature class:"
   ]
  },
  {
   "cell_type": "code",
   "execution_count": null,
   "metadata": {},
   "outputs": [],
   "source": [
    "# set the input feature class path\n",
    "feature_class_path = 'my_feature_class.shp'\n",
    "\n",
    "# open the feature class\n",
    "with fiona.open(feature_class_path) as layer:\n",
    "    \n",
    "    # get the first feature in the feature class\n",
    "    feature = next(layer)\n",
    "    \n",
    "    # print the geometry of the feature\n",
    "    print(feature['geometry'])"
   ]
  },
  {
   "cell_type": "markdown",
   "metadata": {},
   "source": [
    "Summarize the contents of a feature class:"
   ]
  },
  {
   "cell_type": "code",
   "execution_count": null,
   "metadata": {},
   "outputs": [],
   "source": [
    "# set the input feature class path\n",
    "feature_class_path = 'my_feature_class.shp'\n",
    "\n",
    "# get the summary of the feature class\n",
    "summary = fiona.summary(feature_class_path)\n",
    "\n",
    "# print the summary\n",
    "print(summary)"
   ]
  },
  {
   "cell_type": "markdown",
   "metadata": {},
   "source": [
    "Export to shapefile:"
   ]
  },
  {
   "cell_type": "code",
   "execution_count": null,
   "metadata": {},
   "outputs": [],
   "source": [
    "# set the input feature class path\n",
    "input_path = 'input_feature_class.shp'\n",
    "\n",
    "# set the output shapefile path\n",
    "output_path = 'output_shapefile.shp'\n",
    "\n",
    "# open the input feature class\n",
    "with fiona.open(input_path, 'r') as input_layer:\n",
    "\n",
    "    # create the output shapefile with the same schema as the input feature class\n",
    "    with fiona.open(output_path, 'w', driver='ESRI Shapefile', schema=input_layer.schema) as output_layer:\n",
    "\n",
    "        # iterate over the features in the input feature class and write them to the output shapefile\n",
    "        for feature in input_layer:\n",
    "            output_layer.write(feature)"
   ]
  },
  {
   "cell_type": "markdown",
   "metadata": {},
   "source": [
    "Export to geodatabase:"
   ]
  },
  {
   "cell_type": "code",
   "execution_count": null,
   "metadata": {},
   "outputs": [],
   "source": [
    "# set the path and name of the geodatabase\n",
    "output_path = 'path/to/geodatabase.gdb'\n",
    "\n",
    "# set the name of the existing feature class to append to\n",
    "existing_name = 'existing_feature_class'\n",
    "\n",
    "# set the name of the new feature class\n",
    "new_name = 'new_feature_class'\n",
    "\n",
    "# open the existing feature class to get the schema and CRS\n",
    "with fiona.open(output_path, 'r', driver = 'OpenFileGDB', layer = existing_name) as src:\n",
    "    schema = src.schema\n",
    "    crs = src.crs\n",
    "\n",
    "# open the geodatabase in append mode\n",
    "with fiona.open(output_path, 'a', driver = 'OpenFileGDB', layer = new_name, schema = schema, crs = crs) as layer:\n",
    "    \n",
    "    # add the features from the existing feature class to the new feature class\n",
    "    with fiona.open(output_path, 'r', driver = 'OpenFileGDB', layer = existing_name) as src:\n",
    "        for feature in src:\n",
    "            layer.write(feature)"
   ]
  }
 ],
 "metadata": {
  "kernelspec": {
   "display_name": "ArcGISPro",
   "language": "Python",
   "name": "python3"
  },
  "language_info": {
   "file_extension": ".py",
   "name": "python",
   "version": "3"
  }
 },
 "nbformat": 4,
 "nbformat_minor": 2
}
